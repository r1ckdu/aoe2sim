{
 "cells": [
  {
   "cell_type": "markdown",
   "metadata": {},
   "source": [
    "# Calculate Sustained need of food for Villagers"
   ]
  },
  {
   "cell_type": "code",
   "execution_count": 1,
   "metadata": {},
   "outputs": [],
   "source": [
    "from consumables import Sheep, Berries, Boar\n",
    "from units import Villager\n",
    "\n",
    "# lets collect the rates food is collected from our consumables\n",
    "rate_sheep = Sheep(1).gathering_rate\n",
    "rate_boar = Berries(1).gathering_rate\n",
    "rate_berries = Berries(1).gathering_rate"
   ]
  },
  {
   "cell_type": "code",
   "execution_count": 3,
   "metadata": {},
   "outputs": [],
   "source": [
    "v = Villager(1)\n",
    "rate_villager = v.cost.food / v.training_time # the food rate needed for constant villager production"
   ]
  },
  {
   "cell_type": "code",
   "execution_count": 4,
   "metadata": {},
   "outputs": [
    {
     "name": "stdout",
     "output_type": "stream",
     "text": [
      "Villagers on sheep: 6.0606060606060606\n",
      "Villagers on boar: 6.451612903225807\n",
      "Villagers on berries: 6.451612903225807\n"
     ]
    }
   ],
   "source": [
    "print(f\"Villagers on sheep: {rate_villager/rate_sheep}\")\n",
    "print(f\"Villagers on boar: {rate_villager/rate_boar}\")\n",
    "print(f\"Villagers on berries: {rate_villager/rate_berries}\")"
   ]
  }
 ],
 "metadata": {
  "kernelspec": {
   "display_name": "base",
   "language": "python",
   "name": "python3"
  },
  "language_info": {
   "codemirror_mode": {
    "name": "ipython",
    "version": 3
   },
   "file_extension": ".py",
   "mimetype": "text/x-python",
   "name": "python",
   "nbconvert_exporter": "python",
   "pygments_lexer": "ipython3",
   "version": "3.10.15"
  }
 },
 "nbformat": 4,
 "nbformat_minor": 2
}
